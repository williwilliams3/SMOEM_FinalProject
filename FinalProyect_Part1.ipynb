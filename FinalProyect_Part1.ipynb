{
 "cells": [
  {
   "cell_type": "markdown",
   "metadata": {},
   "source": [
    "## 1. Historical Calibration"
   ]
  },
  {
   "cell_type": "markdown",
   "metadata": {},
   "source": [
    "### Introduction\n",
    "Consider a Lévy Process $Y_t$ of the form $Y_t = \\omega t + \\theta G_t + \\sigma W(G_t)$ where $W_t$ is the usual Wienner process and $G_t$ is a Gamma process such that\n",
    "$$\n",
    "\\begin{align*}\n",
    "\\mathbb{E}G_t &= t \\\\ \n",
    "Var(G_t) &= \\nu t \\\\ \n",
    "\\end{align*}\n",
    "$$\n",
    "Note that for a fixed time $t$ then $G_t$ follows a gamma distribution with shape $\\alpha$ and rate $\\beta$, namely\n",
    "$G_t\\sim Gamma(\\alpha=\\frac{t}{\\nu}, \\beta=\\frac{1}{\\nu})$\n",
    "\n",
    "In this exercise we will model the asset $F_t$ by the following dynamics\n",
    "$$\n",
    "d\\log F_t = \\theta d G_t + \\sigma d W(G_t)\n",
    "$$\n",
    "namely, $F_t = F_0 e^{Y_t}$\n"
   ]
  },
  {
   "cell_type": "markdown",
   "metadata": {},
   "source": [
    "### Maximum Likelihood Estimation\n",
    "Assume we have a data sample $(x_1,...,x_n)$ and a time grid $t_1,...,t_n$ with a constant increment $\\Delta t = t_{i+1}-t_i$. Define $X_t = \\log F_{t_i} - \\log F_{t_{i-1}}$. \n",
    "Since $Y_t$ is process with stationary and independent increments then the likelihood function over the timegrid of $X_t$ is \n",
    "$$\n",
    "    L(\\theta) = \\Pi_{i=1}^n f_{X(t_i)|\\theta}\n",
    "$$\n",
    "And the maxim likelihood parameters are such that they maximize the likelihood function evaluated on the data. Or equivalently the log likelihood, this is\n",
    "$$\n",
    "\\hat{\\theta}_{ML} = \\textrm{argmax}_\\theta \\sum_{i=1}^n \\log f_\\theta(x_i)\n",
    "$$\n",
    "It can be shown that the density of $X_t$ evaluated at a point $x$ is \n",
    "$$\n",
    "f_\\theta(x) = \\frac{ 2e^{\\frac{\\theta x}{\\sigma^2} } } { \\sigma \\sqrt{2\\pi} \\nu^{\\Delta t \\nu } \\Gamma(\\frac{1}{\\nu} ) }\n",
    "\\left(\n",
    "\\frac{|x|}{\\sqrt{\\frac{2\\sigma^2}{\\nu} + \\theta^2}}\n",
    "\\right)^{\\frac{\\Delta t}{\\nu} - \\frac{1}{2} }\n",
    "K_{\\frac{\\Delta t}{\\nu} - \\frac{1}{2} } \n",
    "\\left(\n",
    "\\frac{|s|\\sqrt{\\frac{2\\sigma^2}{\\nu} + \\theta^2}}\n",
    "{\\sigma^2}\n",
    "\\right)\n",
    "$$\n",
    "We implement the likelihood function in code and fit it to the log-returns of German Forwards for the calendar year $2021$. In order maximize the likelihood given the data we need an optimizer and a starting point for the optimizer. As the function has local maximums the choice of the initial point might affect the convergence of the optimizer. \n"
   ]
  },
  {
   "cell_type": "markdown",
   "metadata": {},
   "source": [
    "#### Initial Parameters\n",
    "In order to address the problem of local maxima, we decided to start the optimizer at the parameters given by the method of momments, this is computing the first four central momments of $X_t$ and then solving for the parameters in terms of the variance, kurtosis and skewness. \n",
    "\n",
    "As $X_t$ is a variance gamma process with parameters $\\theta$, $\\sigma$ and $\\nu$ at time $\\Delta t$, thus the momment generating function is\n",
    "$$\n",
    "M_X(u, t) = (1-\\theta \\nu u - \\frac{1}{2} \\nu \\sigma^2 u^2)^{\\frac{-\\Delta t}{\\nu}}\n",
    "$$\n",
    "The first 4 central momments are computed to be\n",
    "$$\n",
    "\\begin{align*}\n",
    "\\mathbb{E}X &=  \\theta \\Delta t \\\\\n",
    "\\mathbb{E}(X - \\mathbb{E}X)^2 &= ( \\nu\\theta^2+\\sigma^2) \\Delta t \\\\\n",
    "\\mathbb{E}(X - \\mathbb{E}X)^3 &= ( 2\\theta^3\\nu^2+3\\sigma^2\\nu \\theta) \\Delta t \\\\\n",
    "\\mathbb{E}(X - \\mathbb{E}X)^4 &= \n",
    " ( 3\\nu \\sigma^2 + 12\\theta^2\\sigma^2\\nu^2 + 6\\theta^4\\nu^2 ) \\Delta t\n",
    " + ( 3\\sigma^4 \\theta + 6\\theta^2\\sigma^2\\nu  + 3\\theta^4\\nu^2) \\Delta t^2\n",
    "\\end{align*}\n",
    "$$\n",
    "\n",
    "Now we use the notation for mean, variance, skewness and kurtosis. Note that this values can be computed from the data $x_1,...,x_n$, from which the starting points will be obtained\n",
    "$$\n",
    "\\begin{align*}\n",
    "M=\\mathbb{E}X \\\\\n",
    "V=\\mathbb{E}(X - \\mathbb{E}X)^2 \\\\\n",
    "S = \\frac{\\mathbb{E}(X - \\mathbb{E}X)^3 }{ V^{\\frac{3}{2}}   }\\\\\n",
    "K = \\frac{\\mathbb{E}(X - \\mathbb{E}X)^4 }{ V^{2}   }\\\\\n",
    "\\end{align*}\n",
    "$$\n",
    "And furtherly assuming that $\\theta$ is ''small´´ as it usually is in applications, we get the starting values:\n",
    "$$\n",
    "\\begin{align*}\n",
    "\\sigma_0 &= \\sqrt{\\frac{V}{\\Delta t}} \\\\\n",
    "\\nu_0 &=    \\left( \\frac{K}{3}-1  \\right)\\Delta t \\\\\n",
    "\\sigma_0 &= \\frac{S\\sigma \\sqrt{\\Delta t}}{3\\nu} \\\\\n",
    "\\end{align*}\n",
    "$$"
   ]
  },
  {
   "cell_type": "markdown",
   "metadata": {},
   "source": [
    "### Fitting the data by MLE\n",
    "We load the DEBY data and compute the log-returns. We print basic summary statistics, plot the partial autocorrelation function and a qqplot. \n",
    "\n",
    "From the **PACF** we can see that for any lag greater than one there is no autocorrelation dependence, as no bars lie outside the $95\\%$ confidence intervals. \n",
    "\n",
    "The **qqplot** shows that tails are heavier than a normal distribution so a Gamma-variance Lévy process is a good choice for modelling. \n",
    "\n",
    "The code and plots are below.\n"
   ]
  },
  {
   "cell_type": "code",
   "execution_count": 4,
   "metadata": {},
   "outputs": [],
   "source": [
    "import os \n",
    "import pandas as pd\n",
    "import numpy as np\n",
    "from scipy.stats import kurtosis, skew\n",
    "from scipy.optimize import minimize\n",
    "from scipy.special import gamma, kv \n",
    "from  numpy import pi\n",
    "import matplotlib.pyplot as plt\n",
    "\n",
    "\n",
    "def load_process_data(work_dir):\n",
    "    os.chdir(work_dir)\n",
    "    df_raw = pd.read_csv('data/Historical_Prices_FWD_Germany.csv')\n",
    "    df_raw['date'] = pd.to_datetime(df_raw['Data'])\n",
    "    df_GF = df_raw[df_raw['date']<='2019-11-19'][['date','DEBY2021']]    \n",
    "    df_GF['log_ret'] = np.log(df_GF['DEBY2021']) - np.log(df_GF['DEBY2021'].shift(1))   \n",
    "    # Remove where increment is zero to avoid errors\n",
    "    df =df_GF[(~df_GF['log_ret'].isna()) & (df_GF['log_ret']!=0)]\n",
    "    return df\n",
    "\n",
    "\n",
    "def momment_matching_vg_params(data, dt):\n",
    "    # M = np.mean(data);\n",
    "    # Matlab uses biased estimator\n",
    "    V = np.var(data, ddof=1);\n",
    "    S = skew(data);\n",
    "    # scipy substracts 3 (the normal distr kurtosis ) by default\n",
    "    K = kurtosis(data) + 3;\n",
    "    sigma = np.sqrt(V/dt);\n",
    "    nu = (K/3 -1)*dt;\n",
    "    theta = (S* sigma * np.sqrt(dt))/(3* nu );\n",
    "    return theta, sigma, nu\n",
    "\n",
    "\n",
    "def VGdensity_2(x, theta, nu, sigma, T):\n",
    "    v1 = 2* np.exp(( theta*(x))/sigma**2) / ( (nu**(T/nu)) * np.sqrt(2*pi) * sigma * gamma(T/nu) );\n",
    "    M2 = (2* sigma**2)/ nu + theta**2;\n",
    "    v3 = np.abs(x)/ np.sqrt(M2 );   \n",
    "    v4 = v3**(T/nu - 0.5) ;\n",
    "    v6 = (np.abs(x)* np.sqrt(M2))/ sigma**2;\n",
    "    K = kv(T/nu - 0.5 , v6 );\n",
    "    fx = v1 * v4 *K;\n",
    "    return fx\n",
    "\n",
    "\n",
    "\n",
    "def mle_estimation(data, params, seed=42):\n",
    "    np.random.seed(seed)\n",
    "    # maximum likelihood estimation    \n",
    "    neg_loglikelihood = lambda params: -np.sum(np.log(VGdensity_2(data, params[0], params[1], params[2], dt)))\n",
    "    output = minimize(neg_loglikelihood, params, method = 'Nelder-Mead' )\n",
    "    print(output)\n",
    "    return output['x']\n",
    "\n",
    "\n",
    "def plot_mle_fit():\n",
    "    x = np.linspace(np.min(data), np.max(data), 500)\n",
    "    fx_st = VGdensity_2(x, theta, nu, sigma, dt)\n",
    "    fx_mle = VGdensity_2(x, mle_params[0], mle_params[1], mle_params[2], dt)\n",
    "    \n",
    "    \n",
    "    fig, ax1 = plt.subplots()\n",
    "    ax1.set_ylim([0, 110])\n",
    "    plt.hist(data, bins = 50, edgecolor='black', alpha=0.3, color='green', label='Market data')\n",
    "    plt.legend(loc='best')\n",
    "    \n",
    "    ax2 = ax1.twinx() \n",
    "    ax2.set_ylim([0, 70])\n",
    "    plt.plot(x, fx_st, color='red', label='Method of Momments')\n",
    "    plt.plot(x, fx_mle, color='green', label='MLE fit')\n",
    "    # fig.tight_layout() \n",
    "    plt.legend(loc='best')\n",
    "    plt.show()\n",
    "    \n",
    "# Data Analysis \n",
    "def plot_data():\n",
    "    fig, (ax1, ax2) = plt.subplots(2, 1, sharex=True)\n",
    "    ax1.plot(df['date'], df['DEBY2021'], label='German Forward Prices')\n",
    "    ax1.set_title('German Forward Prices')\n",
    "    ax2.plot(df['date'], df['log_ret'], label='Log Returns', color='red', alpha=0.5)\n",
    "    ax2.set_title('Log Returns')\n",
    "    plt.xticks(rotation=90)\n",
    "    plt.show()\n",
    "    \n"
   ]
  },
  {
   "cell_type": "code",
   "execution_count": 5,
   "metadata": {},
   "outputs": [
    {
     "name": "stdout",
     "output_type": "stream",
     "text": [
      "Mean:  0.0007433405387152798\n",
      "Variance:  0.0007433405387152798\n",
      "Skewness:  -0.22657573932847785\n",
      "Kurtosis:  6.4315069887584615\n"
     ]
    },
    {
     "data": {
      "image/png": "[encoded data removed]",
      "text/plain": [
       "<Figure size 432x288 with 1 Axes>"
      ]
     },
     "metadata": {
      "needs_background": "light"
     },
     "output_type": "display_data"
    },
    {
     "data": {
      "image/png": "[encoded data removed]",
      "text/plain": [
       "<Figure size 432x288 with 1 Axes>"
      ]
     },
     "metadata": {
      "needs_background": "light"
     },
     "output_type": "display_data"
    }
   ],
   "source": [
    "work_dir = '/Users/bwilliams/GoogleDrive/UniversityOfHelsinki/Spring2021/SMFOEM/Week7/Project_BW'\n",
    "df = load_process_data(work_dir)\n",
    "\n",
    "dt = 1/252;\n",
    "data = df['log_ret']\n",
    "\n",
    "\n",
    "# Basic statistics log returns    \n",
    "M = np.mean(data);\n",
    "# Matlab uses biased estimator\n",
    "V = np.var(data, ddof=1);\n",
    "S = skew(data);\n",
    "# scipy substracts 3 (the normal distr kurtosis ) by default\n",
    "K = kurtosis(data) + 3;\n",
    "\n",
    "print('Mean: ',M)\n",
    "print('Variance: ',M)\n",
    "print('Skewness: ',S)\n",
    "print('Kurtosis: ',K)\n",
    "\n",
    "from statsmodels.graphics.tsaplots import plot_pacf\n",
    "from statsmodels.graphics.gofplots import qqplot\n",
    "plot_pacf(data, lags=50)\n",
    "plt.show()\n",
    "\n",
    "qqplot(data, line = 's', alpha=0.3)\n",
    "plt.show()"
   ]
  },
  {
   "cell_type": "markdown",
   "metadata": {},
   "source": [
    "#### Plotting the ML fit\n",
    "Finally let's see how the data was fitted using the initial parameters found by the method of momments and then by the ML-estimation of the parameters, we can see that the ML-parameters are true to the empirical distribution of the data (histogram) than the parameters found by the method of momments\n",
    "\n",
    "| $\\hat{\\theta}_0$ | $\\hat{\\sigma}_0$ | $\\hat{\\nu}_0$ |\n",
    "|---|---|---|\n",
    "| -0.2032 | 0.004539 | 0.19394 |\n",
    "\n",
    "| $\\hat{\\theta}_{ML}$ | $\\hat{\\sigma}_{ML}$ | $\\hat{\\nu}_{ML}$ |\n",
    "|---|---|---|\n",
    "| 0.1873 | 0.001983 | 0.1916 |\n",
    "\n",
    "\n",
    "\n"
   ]
  },
  {
   "cell_type": "code",
   "execution_count": 6,
   "metadata": {},
   "outputs": [
    {
     "name": "stdout",
     "output_type": "stream",
     "text": [
      " final_simplex: (array([[0.18730875, 0.00198363, 0.19168433],\n",
      "       [0.18740309, 0.00198345, 0.19168291],\n",
      "       [0.18728302, 0.00198316, 0.19167855],\n",
      "       [0.18734183, 0.0019835 , 0.1916864 ]]), array([-1930.3677172 , -1930.36771706, -1930.36771704, -1930.36771698]))\n",
      "           fun: -1930.3677172032806\n",
      "       message: 'Optimization terminated successfully.'\n",
      "          nfev: 135\n",
      "           nit: 75\n",
      "        status: 0\n",
      "       success: True\n",
      "             x: array([0.18730875, 0.00198363, 0.19168433])\n",
      "Method of momments parameters:  [-0.20328199  0.00453903  0.19394122]\n",
      "MLE fit parameters:  [0.18730875 0.00198363 0.19168433]\n"
     ]
    },
    {
     "data": {
      "image/png": "[encoded data removed]",
      "text/plain": [
       "<Figure size 432x288 with 2 Axes>"
      ]
     },
     "metadata": {
      "needs_background": "light"
     },
     "output_type": "display_data"
    }
   ],
   "source": [
    "# MLE estimation\n",
    "theta, sigma, nu = momment_matching_vg_params(data, dt)\n",
    "params = np.array([theta, nu, sigma])\n",
    "mle_params = mle_estimation(data, params)\n",
    "\n",
    "print('Method of momments parameters: ', params)\n",
    "print('MLE fit parameters: ', mle_params)\n",
    "\n",
    "plot_mle_fit()\n"
   ]
  },
  {
   "cell_type": "markdown",
   "metadata": {},
   "source": [
    "## 1. Risk Neutral Calibration"
   ]
  },
  {
   "cell_type": "markdown",
   "metadata": {},
   "source": [
    "### Calibration by ordinary least squares\n",
    "In this approach the parameters $\\theta$, $\\sigma$ and $\\mu$ of the model will be calibrated by minizing the squared difference between call options data and estimated call option price, given the parameters $F_0$, $r$, $T$, $K$ which are respectively the forward price at time zreo, the interst free rate, the expiration date and the strike price. Namely, we wish to minimize\n",
    "$$\n",
    "\\sum_{i=1}^n (C_i - C^{\\Theta}_i(F_0,r,T,K))^2\n",
    "$$\n",
    "Where $\\Theta$ refers to the vector of parameters $\\Theta=(\\theta, \\sigma, \\nu)$.\n",
    "\n",
    "In order to find the value of the call option $C^{\\Theta}$ at time $t_0$ given the model, first we need some preliminary result. In a risk free market, $F_t$ is a martingale, so for which value of $\\omega$ is $F_t=F_0e^{\\omega t + \\theta G_t + \\sigma W(G_t)}$ a margingale?"
   ]
  },
  {
   "cell_type": "markdown",
   "metadata": {},
   "source": [
    "#### Proposition: $F_t$ is a martingale if $\\omega = \\frac{1}{\\nu} \\log(1-\\frac{\\sigma^2\\nu}{2}-\\theta v)$\n",
    "**Sketch of proof**\n",
    "Consider $0<s<t$ and the natural filtration $\\{\\mathcal{F}_t\\}_{t\\geq 0}$, then  the martingale condition states that $\\mathbb{E}(F_t|\\mathcal{F}_s) = F_s$\n",
    "$$\n",
    "\\begin{align*}\n",
    "\\mathbb{E}(F_t|\\mathcal{F}_s) ) &=   \\mathbb{E}( F_0 \\exp( w(t-s +s) + \\theta (G_t-G_s+G_s) + \\sigma(W(G_t)-W(G_s)+W(G_s))|\\mathcal{F}_s)  \\\\\n",
    " &= F_s \\mathbb{E}(F_{t-s}|\\mathcal{F}_s) ) \\\\\n",
    " &= F_s e^{w(t-s)}\\mathbb{E}(e^{Y_{t-s}}) ) \\\\\n",
    "\\end{align*}\n",
    "$$\n",
    "The last equality from the fact that $W_t$ and $G_t$ have stationary and independent increments, if $M_Y(u,t)$ is the moment generrating function of $Y_t$ at $u$ then the above is equivalent to\n",
    "$$\n",
    "e^{w(t-s)} = M_Y(1,t-s)\n",
    "$$\n",
    "Remember that the MGF for the gamma-variance process $Y_t$ is\n",
    "$$\n",
    "M_Y(u,t) = (1-\\theta \\nu u - \\frac{1}{2} \\nu \\sigma^2 u^2)^{\\frac{-t}{\\nu}}\n",
    "$$\n",
    "therefore, for $F_t$ to be a martingale\n",
    "$$\n",
    "-\\omega(t-s) = \\frac{t-s}{\\nu} \\log(1-\\theta \\nu  - \\frac{1}{2} \\nu \\sigma^2 )\n",
    "$$\n",
    "and finally $\\omega =  \\frac{1}{\\nu} \\log(1-\\theta \\nu  - \\frac{1}{2} \\nu \\sigma^2 )$"
   ]
  },
  {
   "cell_type": "markdown",
   "metadata": {},
   "source": [
    "Now that we've found the value of $\\omega$ such that $F_t$ is a martingale, how can we compute the value of the call option $C^{\\Theta}$ for the parameters, let's recap the Black 76 model which we'll need in the computation of $C^\\theta$."
   ]
  },
  {
   "cell_type": "markdown",
   "metadata": {},
   "source": [
    "#### Black 76 Model \n",
    "Given a risk free rate $r$, a time to maturity $T$, a strike price $K$, an underlying forward contract $F_t$ with price $F_0$ at valuation and a call option $C_t$ such that $F_t$ follows the gbm dynamics\n",
    "$$\n",
    "dF_t =\\mu F_t dt+ \\sigma F_t dW_t\n",
    "$$\n",
    "with solution \n",
    "$$\n",
    "F_t = F_0 \\exp({(\\mu-\\frac{\\sigma^2}{2})t+\\sigma W_t}) \\overset{d}{=} F^{'}_0\\exp({-\\frac{V_t}{2} + \\sqrt{V_t} Z})\n",
    "$$ \n",
    "where $F^{'}_0 = F_0 e^{\\mu t}$,  $V_t=\\sigma^2 t$ and $Z\\sim N(0,1)$. $V_t$ is called the implied volatility.\n",
    "\n",
    "The Black 76 model states that the valuation of the call contract is\n",
    "$$\n",
    " C_0 = e^{-rT}\\mathbb{E}[(F_t-K)^{+}] =  e^{-rT} (F^{'}_0 N(d_1) - K N(d_2)   )\n",
    "$$\n",
    "where\n",
    "$$\n",
    "d_1 = \\frac{\\log(\\frac{F^{'}_0}{K})+\\frac{V_T}{2}}{\\sqrt{V_T}}\n",
    "$$\n",
    "$$\n",
    "d_2 = d_1 - \\sqrt{V_T}\n",
    "$$\n",
    "and $N(d_1)$ is the cumulative distribution of $Z$ evaluated at $d_1$."
   ]
  },
  {
   "cell_type": "markdown",
   "metadata": {},
   "source": [
    "#### Valuation of call options in variance-gamma model\n",
    "Remember the model is $F_t = F_0\\exp(\\mu t \\theta G_t + \\sigma W(G_t))$, then the valuation of a call option with time to maturity $T$, strike $K$ and risk free rate $r$ is \n",
    "$$\n",
    "C_0 = e^{-rT}\\mathbb{E}[(F_0\\exp(\\mu t+ \\theta G_t + \\sigma W(G_t))-K)^{+}] \n",
    "$$\n",
    "By the tower of property of conditional expectation conditioning on the value of $G_t$\n",
    "$$\n",
    "\\begin{align*}\n",
    "C_0 &=  e^{-rT} \\mathbb{E}[  \\mathbb{E}[(F_0\\exp(\\mu t+ \\theta G_t + \\sigma W(G_t))-K)^{+}|G_t=g ]]\\\\\n",
    " &= e^{-rT} \\int_{0}^\\infty f_G(g,T) \\mathbb{E}[(F_0\\exp(\\mu t + \\theta g + \\sigma W(g))-K)^{+}|G_t=g ] dg \\\\ \n",
    " &\\overset{d}{=}\n",
    " e^{-rT} \\int_{0}^\\infty f_G(g,T) \\mathbb{E}[(F_0\\exp(\\mu t + \\theta g +   \n",
    " \\frac{\\sigma^2}{2}g - \\frac{\\sigma^2}{2}g +\n",
    " \\sigma \\sqrt{g}Z)-K)^{+}|G_t=g ] dg \\\\\n",
    "\\end{align*}\n",
    "$$\n",
    "Where $f_G(g,T)$ is a density of a $Gamma(\\frac{T}{\\nu},\\frac{1}{\\nu})$ distribution.\n",
    "\n",
    "So defining: \n",
    "$$\n",
    "\\begin{align*}\n",
    "F_g &= F_0 \\exp(\\mu T + g(\\theta + \\frac{\\sigma^2}{2}))\\\\\n",
    "V_g &= \\sigma^2 g\n",
    "\\end{align*}\n",
    "$$\n",
    "we end up getting\n",
    "$$\n",
    "C_0 = \\int_{0}^\\infty f_G(g,T) B_{76}(F_g, K, V_g, r,T)dg\n",
    "$$\n",
    "\n"
   ]
  },
  {
   "cell_type": "markdown",
   "metadata": {},
   "source": [
    "#### Fit of OLS model\n",
    "Now that we have an analyitical formula for $C^\\Theta$ we can implement it in code and find parameters \n",
    "$\\Theta = (\\theta, \\nu, \\sigma)$ such that they minize the sum of square errors\n",
    "$$\n",
    "\\hat{\\Theta}_{OLS} = \\textrm{argmin}_{\\Theta}\\sum_{i=1}^n (C_i - C^{\\Theta}_i(F_0,r,T,K))^2\n",
    "$$\n",
    "First we load the data and filter call options corresponding to `DEBY 2021.01`, and the also the forward the same product to get $F_0$ and the time of valuation.\n",
    "\n",
    "We write function for `BS-76` implementation, an integrator for valuation the call option $C^\\Theta$ and an optimizer over the sum of squares errors. The parameters found are:\n",
    "\n",
    "| $\\hat{\\theta}_{OLS}$ | $\\hat{\\sigma}_{OLS}$ | $\\hat{\\nu}_{OLS}$ |\n",
    "|---|---|---|\n",
    "|-0.0512 |  0.5468|  0.2552 |\n",
    "\n",
    "**Note:** The optimizer takes around 4hrs to converge."
   ]
  },
  {
   "cell_type": "code",
   "execution_count": null,
   "metadata": {},
   "outputs": [],
   "source": []
  },
  {
   "cell_type": "markdown",
   "metadata": {},
   "source": [
    "## 3. Comparing results and final observations\n",
    "\n",
    "Finally we plot the market call option prices for `DEBY 2021.01` against the estimated values found by minizing square errors, and the difference between these two curves, for each of the 4 distinct maturities present in the data. Looking at the Difference curve, and comparing them against the ones obtained by Matteo Gardidni, we can see that although the parameters obtained are very different from his the difference curve is very simmilar to the ones found by him, they follow the same patter and are about the same size. \n",
    "\n",
    "I find it difficult to compare the ML model and the OLS model, as one deals with the problem of finding the parameters such that they maximize the likelihood of the forward prices given a gamma-variance model. In the second model the problem becomes, under the same dynamics, finding the parameters such that the observed call prices and the estimation of the call prices is minimized. We can see that the parameters found are different. I think that in order to compare further the two models we could to compute the Call option prices with $\\Theta_{ML}$, measure the square error, and compare it with the one found by $\\Theta_{OLS}$. \n"
   ]
  },
  {
   "cell_type": "code",
   "execution_count": null,
   "metadata": {},
   "outputs": [],
   "source": []
  }
 ],
 "metadata": {
  "kernelspec": {
   "display_name": "Python 3",
   "language": "python",
   "name": "python3"
  },
  "language_info": {
   "codemirror_mode": {
    "name": "ipython",
    "version": 3
   },
   "file_extension": ".py",
   "mimetype": "text/x-python",
   "name": "python",
   "nbconvert_exporter": "python",
   "pygments_lexer": "ipython3",
   "version": "3.8.5"
  }
 },
 "nbformat": 4,
 "nbformat_minor": 4
}
